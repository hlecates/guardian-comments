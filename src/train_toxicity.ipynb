{
 "cells": [
  {
   "cell_type": "code",
   "execution_count": 1,
   "id": "4105f1da",
   "metadata": {},
   "outputs": [
    {
     "name": "stdout",
     "output_type": "stream",
     "text": [
      "TensorFlow version: 2.19.0\n",
      "GPU available: []\n"
     ]
    }
   ],
   "source": [
    "import os\n",
    "import pickle\n",
    "import pandas as pd\n",
    "import tensorflow as tf\n",
    "import numpy as np\n",
    "from pathlib import Path\n",
    "import matplotlib.pyplot as plt\n",
    "from sklearn.metrics import classification_report, confusion_matrix\n",
    "import seaborn as sns\n",
    "\n",
    "print(f\"TensorFlow version: {tf.__version__}\")\n",
    "print(f\"GPU available: {tf.config.list_physical_devices('GPU')}\")"
   ]
  },
  {
   "cell_type": "code",
   "execution_count": 2,
   "id": "be72b1f7",
   "metadata": {},
   "outputs": [],
   "source": [
    "CONFIG = {\n",
    "    'data_path': '../jigsaw-toxic-comment-classification-challenge/train.csv/train.csv',\n",
    "    'model_base_dir': 'model',\n",
    "    'max_features': 200000, \n",
    "    'sequence_length': 1800, \n",
    "    'embedding_dim': 32,\n",
    "    'lstm_units': 32,\n",
    "    'batch_size': 16,\n",
    "    'epochs': 3,\n",
    "    'validation_split': 0.2,\n",
    "    'test_split': 0.1,\n",
    "    'random_seed': 42\n",
    "}\n",
    "\n",
    "\n",
    "# Set random seeds for reproducibility\n",
    "tf.random.set_seed(CONFIG['random_seed'])\n",
    "np.random.seed(CONFIG['random_seed'])"
   ]
  },
  {
   "cell_type": "code",
   "execution_count": 3,
   "id": "09cd1cf5",
   "metadata": {},
   "outputs": [
    {
     "name": "stdout",
     "output_type": "stream",
     "text": [
      "Loading data from: ../jigsaw-toxic-comment-classification-challenge/train.csv/train.csv\n",
      "Dataset shape: (159571, 8)\n",
      "Columns: ['id', 'comment_text', 'toxic', 'severe_toxic', 'obscene', 'threat', 'insult', 'identity_hate']\n"
     ]
    },
    {
     "data": {
      "text/html": [
       "<div>\n",
       "<style scoped>\n",
       "    .dataframe tbody tr th:only-of-type {\n",
       "        vertical-align: middle;\n",
       "    }\n",
       "\n",
       "    .dataframe tbody tr th {\n",
       "        vertical-align: top;\n",
       "    }\n",
       "\n",
       "    .dataframe thead th {\n",
       "        text-align: right;\n",
       "    }\n",
       "</style>\n",
       "<table border=\"1\" class=\"dataframe\">\n",
       "  <thead>\n",
       "    <tr style=\"text-align: right;\">\n",
       "      <th></th>\n",
       "      <th>id</th>\n",
       "      <th>comment_text</th>\n",
       "      <th>toxic</th>\n",
       "      <th>severe_toxic</th>\n",
       "      <th>obscene</th>\n",
       "      <th>threat</th>\n",
       "      <th>insult</th>\n",
       "      <th>identity_hate</th>\n",
       "    </tr>\n",
       "  </thead>\n",
       "  <tbody>\n",
       "    <tr>\n",
       "      <th>0</th>\n",
       "      <td>0000997932d777bf</td>\n",
       "      <td>Explanation\\nWhy the edits made under my usern...</td>\n",
       "      <td>0</td>\n",
       "      <td>0</td>\n",
       "      <td>0</td>\n",
       "      <td>0</td>\n",
       "      <td>0</td>\n",
       "      <td>0</td>\n",
       "    </tr>\n",
       "    <tr>\n",
       "      <th>1</th>\n",
       "      <td>000103f0d9cfb60f</td>\n",
       "      <td>D'aww! He matches this background colour I'm s...</td>\n",
       "      <td>0</td>\n",
       "      <td>0</td>\n",
       "      <td>0</td>\n",
       "      <td>0</td>\n",
       "      <td>0</td>\n",
       "      <td>0</td>\n",
       "    </tr>\n",
       "    <tr>\n",
       "      <th>2</th>\n",
       "      <td>000113f07ec002fd</td>\n",
       "      <td>Hey man, I'm really not trying to edit war. It...</td>\n",
       "      <td>0</td>\n",
       "      <td>0</td>\n",
       "      <td>0</td>\n",
       "      <td>0</td>\n",
       "      <td>0</td>\n",
       "      <td>0</td>\n",
       "    </tr>\n",
       "    <tr>\n",
       "      <th>3</th>\n",
       "      <td>0001b41b1c6bb37e</td>\n",
       "      <td>\"\\nMore\\nI can't make any real suggestions on ...</td>\n",
       "      <td>0</td>\n",
       "      <td>0</td>\n",
       "      <td>0</td>\n",
       "      <td>0</td>\n",
       "      <td>0</td>\n",
       "      <td>0</td>\n",
       "    </tr>\n",
       "    <tr>\n",
       "      <th>4</th>\n",
       "      <td>0001d958c54c6e35</td>\n",
       "      <td>You, sir, are my hero. Any chance you remember...</td>\n",
       "      <td>0</td>\n",
       "      <td>0</td>\n",
       "      <td>0</td>\n",
       "      <td>0</td>\n",
       "      <td>0</td>\n",
       "      <td>0</td>\n",
       "    </tr>\n",
       "  </tbody>\n",
       "</table>\n",
       "</div>"
      ],
      "text/plain": [
       "                 id                                       comment_text  toxic  \\\n",
       "0  0000997932d777bf  Explanation\\nWhy the edits made under my usern...      0   \n",
       "1  000103f0d9cfb60f  D'aww! He matches this background colour I'm s...      0   \n",
       "2  000113f07ec002fd  Hey man, I'm really not trying to edit war. It...      0   \n",
       "3  0001b41b1c6bb37e  \"\\nMore\\nI can't make any real suggestions on ...      0   \n",
       "4  0001d958c54c6e35  You, sir, are my hero. Any chance you remember...      0   \n",
       "\n",
       "   severe_toxic  obscene  threat  insult  identity_hate  \n",
       "0             0        0       0       0              0  \n",
       "1             0        0       0       0              0  \n",
       "2             0        0       0       0              0  \n",
       "3             0        0       0       0              0  \n",
       "4             0        0       0       0              0  "
      ]
     },
     "execution_count": 3,
     "metadata": {},
     "output_type": "execute_result"
    }
   ],
   "source": [
    "# Load data\n",
    "print(f\"Loading data from: {CONFIG['data_path']}\")\n",
    "df = pd.read_csv(CONFIG['data_path'])\n",
    "\n",
    "print(f\"Dataset shape: {df.shape}\")\n",
    "print(f\"Columns: {list(df.columns)}\")\n",
    "df.head()"
   ]
  },
  {
   "cell_type": "code",
   "execution_count": 4,
   "id": "1164f876",
   "metadata": {},
   "outputs": [
    {
     "name": "stdout",
     "output_type": "stream",
     "text": [
      "toxic: 15,294 (9.58%)\n",
      "severe_toxic: 1,595 (1.00%)\n",
      "obscene: 8,449 (5.29%)\n",
      "threat: 478 (0.30%)\n",
      "insult: 7,877 (4.94%)\n",
      "identity_hate: 1,405 (0.88%)\n"
     ]
    },
    {
     "data": {
      "image/png": "[encoded data removed]",
      "text/plain": [
       "<Figure size 500x300 with 1 Axes>"
      ]
     },
     "metadata": {},
     "output_type": "display_data"
    }
   ],
   "source": [
    "toxicity_columns = ['toxic', 'severe_toxic', 'obscene', 'threat', 'insult', 'identity_hate']\n",
    "\n",
    "for col in toxicity_columns:\n",
    "    toxic_count = df[col].sum()\n",
    "    toxic_pct = (toxic_count / len(df)) * 100\n",
    "    print(f\"{col}: {toxic_count:,} ({toxic_pct:.2f}%)\")\n",
    "\n",
    "# Plot\n",
    "fig, ax = plt.subplots(figsize=(5, 3))\n",
    "toxicity_counts = df[toxicity_columns].sum().sort_values(ascending=True)\n",
    "toxicity_counts.plot(kind='barh', ax=ax)\n",
    "ax.set_title('Distribution of Toxicity Labels')\n",
    "ax.set_xlabel('Number of Comments')\n",
    "plt.tight_layout()\n",
    "plt.show()"
   ]
  },
  {
   "cell_type": "code",
   "execution_count": 5,
   "id": "11dab429",
   "metadata": {},
   "outputs": [
    {
     "name": "stdout",
     "output_type": "stream",
     "text": [
      "Input shape: (159571,)\n",
      "Target shape: (159571, 6)\n",
      "Number of toxicity categories: 6\n"
     ]
    }
   ],
   "source": [
    "from tensorflow.keras.layers import TextVectorization\n",
    "\n",
    "# Prepare data\n",
    "X = df['comment_text'].values\n",
    "y = df[toxicity_columns].values\n",
    "\n",
    "print(f\"Input shape: {X.shape}\")\n",
    "print(f\"Target shape: {y.shape}\")\n",
    "print(f\"Number of toxicity categories: {len(toxicity_columns)}\")"
   ]
  },
  {
   "cell_type": "code",
   "execution_count": 6,
   "id": "76517912",
   "metadata": {},
   "outputs": [
    {
     "name": "stdout",
     "output_type": "stream",
     "text": [
      "Adapting vectorizer to the text data\n",
      "Vocabulary size: 200000\n",
      "Sequence length: 1800\n"
     ]
    }
   ],
   "source": [
    "# Create and configure text vectorizer\n",
    "vectorizer = TextVectorization(\n",
    "    max_tokens=CONFIG['max_features'],\n",
    "    output_sequence_length=CONFIG['sequence_length'],\n",
    "    output_mode='int'\n",
    ")\n",
    "\n",
    "print(\"Adapting vectorizer to the text data\")\n",
    "vectorizer.adapt(X)\n",
    "\n",
    "print(f\"Vocabulary size: {len(vectorizer.get_vocabulary())}\")\n",
    "print(f\"Sequence length: {CONFIG['sequence_length']}\")"
   ]
  },
  {
   "cell_type": "code",
   "execution_count": 7,
   "id": "f950ca1b",
   "metadata": {},
   "outputs": [
    {
     "name": "stdout",
     "output_type": "stream",
     "text": [
      "Vectorizing text data\n",
      "Vectorized text shape: (159571, 1800)\n"
     ]
    }
   ],
   "source": [
    "# Vectorize the text\n",
    "print(\"Vectorizing text data\")\n",
    "vectorized_text = vectorizer(X)\n",
    "print(f\"Vectorized text shape: {vectorized_text.shape}\")"
   ]
  },
  {
   "cell_type": "code",
   "execution_count": 8,
   "id": "d385bf9f",
   "metadata": {},
   "outputs": [
    {
     "name": "stdout",
     "output_type": "stream",
     "text": [
      "Creating TensorFlow dataset\n",
      "Total dataset size: 9974 batches\n"
     ]
    }
   ],
   "source": [
    "# Create TensorFlow dataset\n",
    "print(\"Creating TensorFlow dataset\")\n",
    "dataset = tf.data.Dataset.from_tensor_slices((vectorized_text, y))\n",
    "dataset = dataset.cache()\n",
    "dataset = dataset.shuffle(160000, seed=CONFIG['random_seed'])\n",
    "dataset = dataset.batch(CONFIG['batch_size'])\n",
    "dataset = dataset.prefetch(tf.data.AUTOTUNE)\n",
    "\n",
    "dataset_size = len(dataset)\n",
    "print(f\"Total dataset size: {dataset_size} batches\")"
   ]
  },
  {
   "cell_type": "code",
   "execution_count": 9,
   "id": "192f535d",
   "metadata": {},
   "outputs": [
    {
     "name": "stdout",
     "output_type": "stream",
     "text": [
      "Training batches: 6981\n",
      "Validation batches: 1994\n",
      "Test batches: 999\n"
     ]
    }
   ],
   "source": [
    "# Split dataset\n",
    "train_size = int(dataset_size * (1 - CONFIG['validation_split'] - CONFIG['test_split']))\n",
    "val_size = int(dataset_size * CONFIG['validation_split'])\n",
    "test_size = dataset_size - train_size - val_size\n",
    "\n",
    "train_dataset = dataset.take(train_size)\n",
    "remaining_dataset = dataset.skip(train_size)\n",
    "val_dataset = remaining_dataset.take(val_size)\n",
    "test_dataset = remaining_dataset.skip(val_size)\n",
    "\n",
    "print(f\"Training batches: {train_size}\")\n",
    "print(f\"Validation batches: {val_size}\")\n",
    "print(f\"Test batches: {test_size}\")"
   ]
  },
  {
   "cell_type": "code",
   "execution_count": 10,
   "id": "ed2bfab3",
   "metadata": {},
   "outputs": [
    {
     "name": "stderr",
     "output_type": "stream",
     "text": [
      "/Users/hlecates/Desktop/Projects/guardian-comments/.venv/lib/python3.10/site-packages/keras/src/layers/core/embedding.py:97: UserWarning: Argument `input_length` is deprecated. Just remove it.\n",
      "  warnings.warn(\n"
     ]
    },
    {
     "data": {
      "text/html": [
       "<pre style=\"white-space:pre;overflow-x:auto;line-height:normal;font-family:Menlo,'DejaVu Sans Mono',consolas,'Courier New',monospace\"><span style=\"font-weight: bold\">Model: \"sequential\"</span>\n",
       "</pre>\n"
      ],
      "text/plain": [
       "\u001b[1mModel: \"sequential\"\u001b[0m\n"
      ]
     },
     "metadata": {},
     "output_type": "display_data"
    },
    {
     "data": {
      "text/html": [
       "<pre style=\"white-space:pre;overflow-x:auto;line-height:normal;font-family:Menlo,'DejaVu Sans Mono',consolas,'Courier New',monospace\">┏━━━━━━━━━━━━━━━━━━━━━━━━━━━━━━━━━┳━━━━━━━━━━━━━━━━━━━━━━━━┳━━━━━━━━━━━━━━━┓\n",
       "┃<span style=\"font-weight: bold\"> Layer (type)                    </span>┃<span style=\"font-weight: bold\"> Output Shape           </span>┃<span style=\"font-weight: bold\">       Param # </span>┃\n",
       "┡━━━━━━━━━━━━━━━━━━━━━━━━━━━━━━━━━╇━━━━━━━━━━━━━━━━━━━━━━━━╇━━━━━━━━━━━━━━━┩\n",
       "│ embedding (<span style=\"color: #0087ff; text-decoration-color: #0087ff\">Embedding</span>)           │ ?                      │   <span style=\"color: #00af00; text-decoration-color: #00af00\">0</span> (unbuilt) │\n",
       "├─────────────────────────────────┼────────────────────────┼───────────────┤\n",
       "│ bidirectional (<span style=\"color: #0087ff; text-decoration-color: #0087ff\">Bidirectional</span>)   │ ?                      │   <span style=\"color: #00af00; text-decoration-color: #00af00\">0</span> (unbuilt) │\n",
       "├─────────────────────────────────┼────────────────────────┼───────────────┤\n",
       "│ dense (<span style=\"color: #0087ff; text-decoration-color: #0087ff\">Dense</span>)                   │ ?                      │   <span style=\"color: #00af00; text-decoration-color: #00af00\">0</span> (unbuilt) │\n",
       "├─────────────────────────────────┼────────────────────────┼───────────────┤\n",
       "│ dropout (<span style=\"color: #0087ff; text-decoration-color: #0087ff\">Dropout</span>)               │ ?                      │             <span style=\"color: #00af00; text-decoration-color: #00af00\">0</span> │\n",
       "├─────────────────────────────────┼────────────────────────┼───────────────┤\n",
       "│ dense_1 (<span style=\"color: #0087ff; text-decoration-color: #0087ff\">Dense</span>)                 │ ?                      │   <span style=\"color: #00af00; text-decoration-color: #00af00\">0</span> (unbuilt) │\n",
       "├─────────────────────────────────┼────────────────────────┼───────────────┤\n",
       "│ dropout_1 (<span style=\"color: #0087ff; text-decoration-color: #0087ff\">Dropout</span>)             │ ?                      │             <span style=\"color: #00af00; text-decoration-color: #00af00\">0</span> │\n",
       "├─────────────────────────────────┼────────────────────────┼───────────────┤\n",
       "│ dense_2 (<span style=\"color: #0087ff; text-decoration-color: #0087ff\">Dense</span>)                 │ ?                      │   <span style=\"color: #00af00; text-decoration-color: #00af00\">0</span> (unbuilt) │\n",
       "├─────────────────────────────────┼────────────────────────┼───────────────┤\n",
       "│ dropout_2 (<span style=\"color: #0087ff; text-decoration-color: #0087ff\">Dropout</span>)             │ ?                      │             <span style=\"color: #00af00; text-decoration-color: #00af00\">0</span> │\n",
       "├─────────────────────────────────┼────────────────────────┼───────────────┤\n",
       "│ dense_3 (<span style=\"color: #0087ff; text-decoration-color: #0087ff\">Dense</span>)                 │ ?                      │   <span style=\"color: #00af00; text-decoration-color: #00af00\">0</span> (unbuilt) │\n",
       "└─────────────────────────────────┴────────────────────────┴───────────────┘\n",
       "</pre>\n"
      ],
      "text/plain": [
       "┏━━━━━━━━━━━━━━━━━━━━━━━━━━━━━━━━━┳━━━━━━━━━━━━━━━━━━━━━━━━┳━━━━━━━━━━━━━━━┓\n",
       "┃\u001b[1m \u001b[0m\u001b[1mLayer (type)                   \u001b[0m\u001b[1m \u001b[0m┃\u001b[1m \u001b[0m\u001b[1mOutput Shape          \u001b[0m\u001b[1m \u001b[0m┃\u001b[1m \u001b[0m\u001b[1m      Param #\u001b[0m\u001b[1m \u001b[0m┃\n",
       "┡━━━━━━━━━━━━━━━━━━━━━━━━━━━━━━━━━╇━━━━━━━━━━━━━━━━━━━━━━━━╇━━━━━━━━━━━━━━━┩\n",
       "│ embedding (\u001b[38;5;33mEmbedding\u001b[0m)           │ ?                      │   \u001b[38;5;34m0\u001b[0m (unbuilt) │\n",
       "├─────────────────────────────────┼────────────────────────┼───────────────┤\n",
       "│ bidirectional (\u001b[38;5;33mBidirectional\u001b[0m)   │ ?                      │   \u001b[38;5;34m0\u001b[0m (unbuilt) │\n",
       "├─────────────────────────────────┼────────────────────────┼───────────────┤\n",
       "│ dense (\u001b[38;5;33mDense\u001b[0m)                   │ ?                      │   \u001b[38;5;34m0\u001b[0m (unbuilt) │\n",
       "├─────────────────────────────────┼────────────────────────┼───────────────┤\n",
       "│ dropout (\u001b[38;5;33mDropout\u001b[0m)               │ ?                      │             \u001b[38;5;34m0\u001b[0m │\n",
       "├─────────────────────────────────┼────────────────────────┼───────────────┤\n",
       "│ dense_1 (\u001b[38;5;33mDense\u001b[0m)                 │ ?                      │   \u001b[38;5;34m0\u001b[0m (unbuilt) │\n",
       "├─────────────────────────────────┼────────────────────────┼───────────────┤\n",
       "│ dropout_1 (\u001b[38;5;33mDropout\u001b[0m)             │ ?                      │             \u001b[38;5;34m0\u001b[0m │\n",
       "├─────────────────────────────────┼────────────────────────┼───────────────┤\n",
       "│ dense_2 (\u001b[38;5;33mDense\u001b[0m)                 │ ?                      │   \u001b[38;5;34m0\u001b[0m (unbuilt) │\n",
       "├─────────────────────────────────┼────────────────────────┼───────────────┤\n",
       "│ dropout_2 (\u001b[38;5;33mDropout\u001b[0m)             │ ?                      │             \u001b[38;5;34m0\u001b[0m │\n",
       "├─────────────────────────────────┼────────────────────────┼───────────────┤\n",
       "│ dense_3 (\u001b[38;5;33mDense\u001b[0m)                 │ ?                      │   \u001b[38;5;34m0\u001b[0m (unbuilt) │\n",
       "└─────────────────────────────────┴────────────────────────┴───────────────┘\n"
      ]
     },
     "metadata": {},
     "output_type": "display_data"
    },
    {
     "data": {
      "text/html": [
       "<pre style=\"white-space:pre;overflow-x:auto;line-height:normal;font-family:Menlo,'DejaVu Sans Mono',consolas,'Courier New',monospace\"><span style=\"font-weight: bold\"> Total params: </span><span style=\"color: #00af00; text-decoration-color: #00af00\">0</span> (0.00 B)\n",
       "</pre>\n"
      ],
      "text/plain": [
       "\u001b[1m Total params: \u001b[0m\u001b[38;5;34m0\u001b[0m (0.00 B)\n"
      ]
     },
     "metadata": {},
     "output_type": "display_data"
    },
    {
     "data": {
      "text/html": [
       "<pre style=\"white-space:pre;overflow-x:auto;line-height:normal;font-family:Menlo,'DejaVu Sans Mono',consolas,'Courier New',monospace\"><span style=\"font-weight: bold\"> Trainable params: </span><span style=\"color: #00af00; text-decoration-color: #00af00\">0</span> (0.00 B)\n",
       "</pre>\n"
      ],
      "text/plain": [
       "\u001b[1m Trainable params: \u001b[0m\u001b[38;5;34m0\u001b[0m (0.00 B)\n"
      ]
     },
     "metadata": {},
     "output_type": "display_data"
    },
    {
     "data": {
      "text/html": [
       "<pre style=\"white-space:pre;overflow-x:auto;line-height:normal;font-family:Menlo,'DejaVu Sans Mono',consolas,'Courier New',monospace\"><span style=\"font-weight: bold\"> Non-trainable params: </span><span style=\"color: #00af00; text-decoration-color: #00af00\">0</span> (0.00 B)\n",
       "</pre>\n"
      ],
      "text/plain": [
       "\u001b[1m Non-trainable params: \u001b[0m\u001b[38;5;34m0\u001b[0m (0.00 B)\n"
      ]
     },
     "metadata": {},
     "output_type": "display_data"
    }
   ],
   "source": [
    "from tensorflow.keras.models import Sequential\n",
    "from tensorflow.keras.layers import LSTM, Dropout, Bidirectional, Dense, Embedding\n",
    "from tensorflow.keras.callbacks import EarlyStopping, ReduceLROnPlateau\n",
    "\n",
    "def create_model(vocab_size, embedding_dim, lstm_units, num_classes, sequence_length):\n",
    "    model = Sequential([\n",
    "        # Embedding layer\n",
    "        Embedding(vocab_size + 1, embedding_dim, input_length=sequence_length),\n",
    "        \n",
    "        # Bidirectional LSTM\n",
    "        Bidirectional(LSTM(lstm_units, activation='tanh')),\n",
    "        \n",
    "        # Dense layers for feature extraction\n",
    "        Dense(128, activation='relu'),\n",
    "        Dropout(0.3),\n",
    "        Dense(256, activation='relu'),\n",
    "        Dropout(0.3),\n",
    "        Dense(128, activation='relu'),\n",
    "        Dropout(0.3),\n",
    "        \n",
    "        # Output layer (sigmoid for multi-label classification)\n",
    "        Dense(num_classes, activation='sigmoid')\n",
    "    ])\n",
    "    \n",
    "    return model\n",
    "\n",
    "# Create the model\n",
    "model = create_model(\n",
    "    vocab_size=CONFIG['max_features'],\n",
    "    embedding_dim=CONFIG['embedding_dim'],\n",
    "    lstm_units=CONFIG['lstm_units'],\n",
    "    num_classes=len(toxicity_columns),\n",
    "    sequence_length=CONFIG['sequence_length']\n",
    ")\n",
    "\n",
    "model.summary()"
   ]
  },
  {
   "cell_type": "code",
   "execution_count": 11,
   "id": "2950848f",
   "metadata": {},
   "outputs": [
    {
     "name": "stdout",
     "output_type": "stream",
     "text": [
      "Model compiled\n"
     ]
    }
   ],
   "source": [
    "# Compile the model\n",
    "model.compile(\n",
    "    loss='binary_crossentropy',\n",
    "    optimizer='adam',\n",
    "    metrics=['accuracy', 'precision', 'recall']\n",
    ")\n",
    "\n",
    "print(\"Model compiled\")"
   ]
  },
  {
   "cell_type": "code",
   "execution_count": 12,
   "id": "13a33360",
   "metadata": {},
   "outputs": [
    {
     "name": "stdout",
     "output_type": "stream",
     "text": [
      "Callbacks configured\n"
     ]
    }
   ],
   "source": [
    "# Setup callbacks\n",
    "callbacks = [\n",
    "    EarlyStopping(\n",
    "        monitor='val_loss',\n",
    "        patience=3,\n",
    "        restore_best_weights=True,\n",
    "        verbose=1\n",
    "    ),\n",
    "    ReduceLROnPlateau(\n",
    "        monitor='val_loss',\n",
    "        factor=0.5,\n",
    "        patience=2,\n",
    "        min_lr=1e-7,\n",
    "        verbose=1\n",
    "    )\n",
    "]\n",
    "\n",
    "print(\"Callbacks configured\")"
   ]
  },
  {
   "cell_type": "code",
   "execution_count": 13,
   "id": "0b88b975",
   "metadata": {},
   "outputs": [
    {
     "name": "stdout",
     "output_type": "stream",
     "text": [
      "Starting training for 3 epochs\n",
      "Epoch 1/3\n",
      "\u001b[1m6981/6981\u001b[0m \u001b[32m━━━━━━━━━━━━━━━━━━━━\u001b[0m\u001b[37m\u001b[0m \u001b[1m3378s\u001b[0m 484ms/step - accuracy: 0.9537 - loss: 0.0668 - precision: 0.7860 - recall: 0.5454 - val_accuracy: 0.9944 - val_loss: 0.0574 - val_precision: 0.9236 - val_recall: 0.4619 - learning_rate: 0.0010\n",
      "Epoch 2/3\n",
      "\u001b[1m6981/6981\u001b[0m \u001b[32m━━━━━━━━━━━━━━━━━━━━\u001b[0m\u001b[37m\u001b[0m \u001b[1m3507s\u001b[0m 502ms/step - accuracy: 0.9936 - loss: 0.0483 - precision: 0.8152 - recall: 0.6657 - val_accuracy: 0.9940 - val_loss: 0.0417 - val_precision: 0.8421 - val_recall: 0.7065 - learning_rate: 0.0010\n",
      "Epoch 3/3\n",
      "\u001b[1m6981/6981\u001b[0m \u001b[32m━━━━━━━━━━━━━━━━━━━━\u001b[0m\u001b[37m\u001b[0m \u001b[1m3392s\u001b[0m 486ms/step - accuracy: 0.9903 - loss: 0.0435 - precision: 0.8199 - recall: 0.7112 - val_accuracy: 0.9938 - val_loss: 0.0382 - val_precision: 0.8478 - val_recall: 0.7176 - learning_rate: 0.0010\n",
      "Restoring model weights from the end of the best epoch: 3.\n",
      "Training complete\n"
     ]
    }
   ],
   "source": [
    "# Train the model\n",
    "print(f\"Starting training for {CONFIG['epochs']} epochs\")\n",
    "history = model.fit(\n",
    "    train_dataset,\n",
    "    epochs=CONFIG['epochs'],\n",
    "    validation_data=val_dataset,\n",
    "    callbacks=callbacks,\n",
    "    verbose=1\n",
    ")\n",
    "\n",
    "print(\"Training complete\")"
   ]
  },
  {
   "cell_type": "code",
   "execution_count": 14,
   "id": "0ec7670a",
   "metadata": {},
   "outputs": [
    {
     "name": "stdout",
     "output_type": "stream",
     "text": [
      "Evaluating model on test set\n",
      "\u001b[1m999/999\u001b[0m \u001b[32m━━━━━━━━━━━━━━━━━━━━\u001b[0m\u001b[37m\u001b[0m \u001b[1m41s\u001b[0m 40ms/step - accuracy: 0.9935 - loss: 0.0395 - precision: 0.8555 - recall: 0.7224\n",
      "Loss: 0.0395\n",
      "Accuracy: 0.9935\n",
      "Precision: 0.8555\n",
      "Recall: 0.7224\n",
      "F1-Score: 0.7833\n"
     ]
    }
   ],
   "source": [
    "# Evaluate on test set\n",
    "print(\"Evaluating model on test set\")\n",
    "test_loss, test_accuracy, test_precision, test_recall = model.evaluate(test_dataset, verbose=1)\n",
    "\n",
    "print(f\"Loss: {test_loss:.4f}\")\n",
    "print(f\"Accuracy: {test_accuracy:.4f}\")\n",
    "print(f\"Precision: {test_precision:.4f}\")\n",
    "print(f\"Recall: {test_recall:.4f}\")\n",
    "print(f\"F1-Score: {2 * (test_precision * test_recall) / (test_precision + test_recall):.4f}\")\n"
   ]
  },
  {
   "cell_type": "code",
   "execution_count": 15,
   "id": "97ed0f15",
   "metadata": {},
   "outputs": [
    {
     "name": "stdout",
     "output_type": "stream",
     "text": [
      "Created directory: model/03_epochs\n",
      "Saving model to: model/03_epochs/toxicity.keras\n",
      "Saving vectorizer to: model/03_epochs/vectorizer.pkl\n",
      "\n",
      "Model and vectorizer saved\n",
      "Model file size: 74.3 MB\n",
      "Vectorizer file size: 4.5 MB\n"
     ]
    }
   ],
   "source": [
    "# Create subdirectory for this epoch run (e.g., 'models/01_epochs/')\n",
    "epoch_dir = os.path.join(CONFIG['model_base_dir'], f\"{CONFIG['epochs']:02d}_epochs\")\n",
    "\n",
    "# Define paths\n",
    "model_save_path = os.path.join(epoch_dir, 'toxicity.keras')\n",
    "vectorizer_save_path = os.path.join(epoch_dir, 'vectorizer.pkl')\n",
    "\n",
    "# Ensure directory exists\n",
    "def ensure_dir_exists(file_path):\n",
    "    directory = os.path.dirname(file_path)\n",
    "    if directory and not os.path.exists(directory):\n",
    "        os.makedirs(directory)\n",
    "        print(f\"Created directory: {directory}\")\n",
    "    return file_path\n",
    "\n",
    "# Save model\n",
    "model_path = ensure_dir_exists(model_save_path)\n",
    "print(f\"Saving model to: {model_path}\")\n",
    "model.save(model_path)\n",
    "\n",
    "# Save vectorizer\n",
    "vectorizer_path = ensure_dir_exists(vectorizer_save_path)\n",
    "print(f\"Saving vectorizer to: {vectorizer_path}\")\n",
    "with open(vectorizer_path, 'wb') as f:\n",
    "    pickle.dump(vectorizer, f)\n",
    "\n",
    "# Output file sizes\n",
    "print(\"\\nModel and vectorizer saved\")\n",
    "print(f\"Model file size: {os.path.getsize(model_path) / (1024*1024):.1f} MB\")\n",
    "print(f\"Vectorizer file size: {os.path.getsize(vectorizer_path) / (1024*1024):.1f} MB\")"
   ]
  },
  {
   "cell_type": "code",
   "execution_count": 16,
   "id": "17aafb76",
   "metadata": {},
   "outputs": [
    {
     "name": "stdout",
     "output_type": "stream",
     "text": [
      "Testing model\n",
      "\n",
      "Test predictions:\n",
      "\n",
      "Comment: 'You are such an idiot!'\n",
      "  toxic: 0.948 (TOXIC)\n",
      "  severe_toxic: 0.065 (clean)\n",
      "  obscene: 0.696 (TOXIC)\n",
      "  threat: 0.033 (clean)\n",
      "  insult: 0.581 (TOXIC)\n",
      "  identity_hate: 0.098 (clean)\n",
      "\n",
      "Comment: 'This is a great article, thanks for sharing.'\n",
      "  toxic: 0.003 (clean)\n",
      "  severe_toxic: 0.000 (clean)\n",
      "  obscene: 0.000 (clean)\n",
      "  threat: 0.000 (clean)\n",
      "  insult: 0.000 (clean)\n",
      "  identity_hate: 0.000 (clean)\n",
      "\n",
      "Comment: 'I hope you die in a fire!'\n",
      "  toxic: 0.838 (TOXIC)\n",
      "  severe_toxic: 0.006 (clean)\n",
      "  obscene: 0.322 (clean)\n",
      "  threat: 0.013 (clean)\n",
      "  insult: 0.346 (clean)\n",
      "  identity_hate: 0.039 (clean)\n",
      "\n",
      "Comment: 'Could you please explain this better?'\n",
      "  toxic: 0.000 (clean)\n",
      "  severe_toxic: 0.000 (clean)\n",
      "  obscene: 0.000 (clean)\n",
      "  threat: 0.000 (clean)\n",
      "  insult: 0.000 (clean)\n",
      "  identity_hate: 0.000 (clean)\n",
      "\n",
      "Model loading and prediction successful\n"
     ]
    }
   ],
   "source": [
    "# Test loading and prediction\n",
    "print(\"Testing model\")\n",
    "\n",
    "# Load the saved model and vectorizer\n",
    "loaded_model = tf.keras.models.load_model(model_path)\n",
    "with open(vectorizer_path, 'rb') as f:\n",
    "    loaded_vectorizer = pickle.load(f)\n",
    "\n",
    "# Test with sample comments\n",
    "test_comments = [\n",
    "    \"You are such an idiot!\",\n",
    "    \"This is a great article, thanks for sharing.\",\n",
    "    \"I hope you die in a fire!\",\n",
    "    \"Could you please explain this better?\"\n",
    "]\n",
    "\n",
    "print(\"\\nTest predictions:\")\n",
    "for comment in test_comments:\n",
    "    # Vectorize comment\n",
    "    vectorized_comment = loaded_vectorizer([comment])\n",
    "    \n",
    "    # Make prediction\n",
    "    prediction = loaded_model.predict(vectorized_comment, verbose=0)\n",
    "    \n",
    "    # Format results\n",
    "    print(f\"\\nComment: '{comment}'\")\n",
    "    for i, category in enumerate(toxicity_columns):\n",
    "        prob = prediction[0][i]\n",
    "        is_toxic = prob > 0.5\n",
    "        print(f\"  {category}: {prob:.3f} {'(TOXIC)' if is_toxic else '(clean)'}\")\n",
    "\n",
    "print(\"\\nModel loading and prediction successful\")\n"
   ]
  }
 ],
 "metadata": {
  "kernelspec": {
   "display_name": ".venv (3.10.11)",
   "language": "python",
   "name": "python3"
  },
  "language_info": {
   "codemirror_mode": {
    "name": "ipython",
    "version": 3
   },
   "file_extension": ".py",
   "mimetype": "text/x-python",
   "name": "python",
   "nbconvert_exporter": "python",
   "pygments_lexer": "ipython3",
   "version": "3.10.11"
  }
 },
 "nbformat": 4,
 "nbformat_minor": 5
}
